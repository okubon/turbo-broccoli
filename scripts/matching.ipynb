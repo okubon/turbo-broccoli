{
 "cells": [
  {
   "cell_type": "code",
   "execution_count": 2,
   "metadata": {},
   "outputs": [],
   "source": [
    "import pandas as pd"
   ]
  },
  {
   "cell_type": "code",
   "execution_count": 5,
   "metadata": {},
   "outputs": [
    {
     "name": "stdout",
     "output_type": "stream",
     "text": [
      "       WP  NACHNAME   VORNAME                                 BERUF  \\\n",
      "0       1  Adenauer    Konrad                         Bundeskanzler   \n",
      "1       1     Agatz     Willi     Bergmann, Gewerkschaftsfunktionär   \n",
      "2       1    Ahrens     Adolf                               Kapitän   \n",
      "3       1    Albers  Johannes                       Geschäftsführer   \n",
      "4       1   Albertz     Luise                          Buchhalterin   \n",
      "...    ..       ...       ...                                   ...   \n",
      "17550  20      Zorn    Armand                         Projektleiter   \n",
      "17551  20    Zschau    Katrin  Landesgeschäftsführerin Gewerkschaft   \n",
      "17552  20    Zschau    Katrin  Landesgeschäftsführerin Gewerkschaft   \n",
      "17553  20    Zschau    Katrin  Landesgeschäftsführerin Gewerkschaft   \n",
      "17554  20    Zschau    Katrin  Landesgeschäftsführerin Gewerkschaft   \n",
      "\n",
      "      ANREDE_TITEL PRAEFIX ADEL PARTEI_KURZ ORTSZUSATZ GESCHLECHT        ID  \n",
      "0              Dr.     NaN  NaN     CDU/CSU        NaN   männlich  11000009  \n",
      "1              NaN     NaN  NaN         KPD        NaN   männlich  11000013  \n",
      "2              NaN     NaN  NaN          DP        NaN   männlich  11000015  \n",
      "3              NaN     NaN  NaN     CDU/CSU        NaN   männlich  11000020  \n",
      "4              NaN     NaN  NaN         SPD        NaN   weiblich  11000021  \n",
      "...            ...     ...  ...         ...        ...        ...       ...  \n",
      "17550          NaN     NaN  NaN         SPD        NaN   männlich  11005267  \n",
      "17551          NaN     NaN  NaN         SPD        NaN   weiblich  11005268  \n",
      "17552          NaN     NaN  NaN         SPD        NaN   weiblich  11005268  \n",
      "17553          NaN     NaN  NaN         SPD        NaN   weiblich  11005268  \n",
      "17554          NaN     NaN  NaN         SPD        NaN   weiblich  11005268  \n",
      "\n",
      "[17555 rows x 11 columns]\n"
     ]
    }
   ],
   "source": [
    "df_stamm = pd.read_csv('/Users/diva/Documents/GitHub/turbo-broccoli/stammdaten/stammdaten_bereinigt.csv', sep=\";\")\n",
    "print(df_stamm)"
   ]
  },
  {
   "cell_type": "code",
   "execution_count": 8,
   "metadata": {},
   "outputs": [
    {
     "name": "stdout",
     "output_type": "stream",
     "text": [
      "       RB_ID    RB_Name  WAHLPERIODE      NR       DATUM  \\\n",
      "0          1     Brandt           10    10/1  29.03.1983   \n",
      "1          2  Stratmann           10    10/1  29.03.1983   \n",
      "2          3     Brandt           10    10/1  29.03.1983   \n",
      "3          4  Stratmann           10    10/1  29.03.1983   \n",
      "4          5     Brandt           10    10/1  29.03.1983   \n",
      "...      ...        ...          ...     ...         ...   \n",
      "56998  58130  JennInger           10  10/256  11.12.1986   \n",
      "56999  58131   Wallmann           10  10/256  11.12.1986   \n",
      "57000  58132  Jenninger           10  10/256  11.12.1986   \n",
      "57001  58133   Ströbele           10  10/256  11.12.1986   \n",
      "57002  58134  Jenninger           10  10/256  11.12.1986   \n",
      "\n",
      "                                                FUNKTION         POSITION  \\\n",
      "0                                                    NaN  Alterspräsident   \n",
      "1                                                    NaN              NaN   \n",
      "2                                                    NaN  Alterspräsident   \n",
      "3                                                    NaN              NaN   \n",
      "4                                                    NaN  Alterspräsident   \n",
      "...                                                  ...              ...   \n",
      "56998                                                NaN        Präsident   \n",
      "56999  Bundesminister für Umwelt, Naturschutz und Rea...              NaN   \n",
      "57000                                                NaN        Präsident   \n",
      "57001                                                NaN              NaN   \n",
      "57002                                                NaN        Präsident   \n",
      "\n",
      "      ANREDE_TITEL PRAEFIX ADEL                 PARTEI ORTSZUSATZ  \n",
      "0              NaN     NaN  NaN                    NaN        NaN  \n",
      "1              NaN     NaN  NaN  BÜNDNIS 90/DIE GRÜNEN        NaN  \n",
      "2              NaN     NaN  NaN                    NaN        NaN  \n",
      "3              NaN     NaN  NaN  BÜNDNIS 90/DIE GRÜNEN        NaN  \n",
      "4              NaN     NaN  NaN                    NaN        NaN  \n",
      "...            ...     ...  ...                    ...        ...  \n",
      "56998          Dr.     NaN  NaN                    NaN        NaN  \n",
      "56999          Dr.     NaN  NaN                    NaN        NaN  \n",
      "57000          Dr.     NaN  NaN                    NaN        NaN  \n",
      "57001          NaN     NaN  NaN  BÜNDNIS 90/DIE GRÜNEN        NaN  \n",
      "57002          Dr.     NaN  NaN                    NaN        NaN  \n",
      "\n",
      "[57003 rows x 12 columns]\n"
     ]
    }
   ],
   "source": [
    "df_rb10 = pd.read_csv('/Users/diva/Documents/GitHub/turbo-broccoli/output/rb/rb10.csv', sep=\",\")\n",
    "print(df_rb10)"
   ]
  }
 ],
 "metadata": {
  "kernelspec": {
   "display_name": "Python 3.10.4 64-bit",
   "language": "python",
   "name": "python3"
  },
  "language_info": {
   "codemirror_mode": {
    "name": "ipython",
    "version": 3
   },
   "file_extension": ".py",
   "mimetype": "text/x-python",
   "name": "python",
   "nbconvert_exporter": "python",
   "pygments_lexer": "ipython3",
   "version": "3.10.4"
  },
  "orig_nbformat": 4,
  "vscode": {
   "interpreter": {
    "hash": "aee8b7b246df8f9039afb4144a1f6fd8d2ca17a180786b69acc140d282b71a49"
   }
  }
 },
 "nbformat": 4,
 "nbformat_minor": 2
}
